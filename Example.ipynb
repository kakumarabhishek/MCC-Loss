{
 "cells": [
  {
   "cell_type": "code",
   "execution_count": 1,
   "metadata": {},
   "outputs": [],
   "source": [
    "from loss import *\n",
    "from sklearn.metrics import matthews_corrcoef, confusion_matrix"
   ]
  },
  {
   "cell_type": "code",
   "execution_count": 2,
   "metadata": {},
   "outputs": [],
   "source": [
    "gt_mask = torch.Tensor([\n",
    "    [0, 0, 0, 0, 0],\n",
    "    [0, 0, 1, 0, 0],\n",
    "    [0, 1, 1, 1, 0],\n",
    "    [0, 1, 1, 1, 1],\n",
    "    [0, 0, 1, 1, 0]\n",
    "])\n",
    "\n",
    "pred_mask = torch.Tensor([\n",
    "    [0, 0, 0, 0, 0],\n",
    "    [0, 1, 1, 0, 0],\n",
    "    [0, 1, 1, 1, 0],\n",
    "    [0, 1, 1, 1, 0],\n",
    "    [0, 0, 0, 0, 0]\n",
    "])"
   ]
  },
  {
   "cell_type": "code",
   "execution_count": 3,
   "metadata": {},
   "outputs": [],
   "source": [
    "dice_loss = Dice_Loss()\n",
    "mcc_loss = MCC_Loss()"
   ]
  },
  {
   "cell_type": "code",
   "execution_count": 4,
   "metadata": {},
   "outputs": [
    {
     "data": {
      "text/plain": [
       "0.7777777910232544"
      ]
     },
     "execution_count": 4,
     "metadata": {},
     "output_type": "execute_result"
    }
   ],
   "source": [
    "# Dice coefficient = 1 - Dice loss (since Dice loss = 1 - Dice coefficient in loss.py)\n",
    "1 - dice_loss(pred_mask, gt_mask).item()"
   ]
  },
  {
   "cell_type": "code",
   "execution_count": 5,
   "metadata": {},
   "outputs": [
    {
     "data": {
      "text/plain": [
       "0.6605085730552673"
      ]
     },
     "execution_count": 5,
     "metadata": {},
     "output_type": "execute_result"
    }
   ],
   "source": [
    "# MCC = 1 - MCC loss (since MCC loss = 1 - MCC in loss.py)\n",
    "1 - mcc_loss(pred_mask, gt_mask).item()"
   ]
  },
  {
   "cell_type": "markdown",
   "metadata": {},
   "source": [
    "## Checking the correctness of the loss functions"
   ]
  },
  {
   "cell_type": "code",
   "execution_count": 6,
   "metadata": {},
   "outputs": [
    {
     "data": {
      "text/plain": [
       "array([[14,  1],\n",
       "       [ 3,  7]])"
      ]
     },
     "execution_count": 6,
     "metadata": {},
     "output_type": "execute_result"
    }
   ],
   "source": [
    "# Confusion matrix created using scikit-learn\n",
    "confusion_matrix(y_true=gt_mask.flatten().numpy(), y_pred=pred_mask.flatten().numpy())"
   ]
  },
  {
   "cell_type": "code",
   "execution_count": 7,
   "metadata": {},
   "outputs": [
    {
     "data": {
      "text/plain": [
       "0.6651330399133047"
      ]
     },
     "execution_count": 7,
     "metadata": {},
     "output_type": "execute_result"
    }
   ],
   "source": [
    "# Matthews correlation coefficient calculated using scikit-learn\n",
    "matthews_corrcoef(y_true=gt_mask.flatten().numpy(), y_pred=pred_mask.flatten().numpy())"
   ]
  },
  {
   "cell_type": "markdown",
   "metadata": {},
   "source": [
    "### Dice coefficient = 2 * (intersection of gt_mask and pred_mask) / (|gt_mask| + |pred_mask|) = (2*14) / (10 + 8) = 0.7778\n",
    "\n",
    "### The difference in MCC values are because of the (+ 1) in the denominator, which is added to avoid divide-by-zero errors."
   ]
  }
 ],
 "metadata": {
  "kernelspec": {
   "display_name": "Python 3.5.5 64-bit ('ML': conda)",
   "language": "python",
   "name": "python35564bitmlcondad5249ac782ee4820af2fb6bc577361d1"
  },
  "language_info": {
   "codemirror_mode": {
    "name": "ipython",
    "version": 3
   },
   "file_extension": ".py",
   "mimetype": "text/x-python",
   "name": "python",
   "nbconvert_exporter": "python",
   "pygments_lexer": "ipython3",
   "version": "3.5.5"
  }
 },
 "nbformat": 4,
 "nbformat_minor": 2
}
